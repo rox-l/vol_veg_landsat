{
 "cells": [
  {
   "cell_type": "code",
   "execution_count": null,
   "metadata": {},
   "outputs": [],
   "source": [
    "# This script prepares geotiffs of vegetation indices for pixel-wise trend fitting\n",
    "\n",
    "# import libraries\n",
    "import ic_wrapper as wp # type: ignore (current workaround for pylance missing imports issue; doesn't affect functionality)\n",
    "import trend_fitting as tf # type: ignore \n",
    "import recovery_metrics as rm # type: ignore \n",
    "import preliminary_values as pv # type: ignore\n",
    "import matplotlib.pyplot as plt\n",
    "import numpy as np\n",
    "import os \n",
    "from glob import glob"
   ]
  },
  {
   "cell_type": "code",
   "execution_count": null,
   "metadata": {},
   "outputs": [],
   "source": [
    "# ======================\n",
    "# Paths: change paths accordingly\n",
    "# ======================\n",
    "data_dir = \"/Volumes/GoogleDrive/My Drive/GEE_EXPORTS/volcanic_veg\"\n",
    "data_dir2 = \"/Volumes/GoogleDrive/My Drive/GEE_EXPORTS/volcanic_veg_test\"\n",
    "\n",
    "# folders to get input data  \n",
    "geotiff_input_path = os.path.join(data_dir, 'geotiff_files')\n",
    "\n",
    "# veg recovery directory\n",
    "veg_recovery_dir = os.path.join(data_dir2, 'vegrecovery_outputs_test')\n",
    "\n",
    "# folder to keep results from trend fitting\n",
    "trend_recovery_dir = os.path.join(data_dir2, 'trend_results_test')\n",
    "\n",
    "# make folders if folders currently do not exist\n",
    "path_list = [data_dir, geotiff_input_path, veg_recovery_dir, trend_recovery_dir]\n",
    "for path in path_list: \n",
    "    exist = os.path.exists(path)\n",
    "    if not exist: \n",
    "        os.makedirs(path)\n",
    "        print(f\"new {path} folder created!\")\n",
    "    else: \n",
    "        print(f\"{path} already exists! No folder was created\")"
   ]
  },
  {
   "cell_type": "code",
   "execution_count": null,
   "metadata": {},
   "outputs": [],
   "source": [
    "# ======================\n",
    "# Read in geotiffs\n",
    "# ======================\n",
    "file_list_NBR = glob(geotiff_input_path + '/*_NBR.tif')\n",
    "# file_list_NDVI = glob(geotiff_input_path + '/*_NDVI.tif')\n",
    "# file_list_SAVI = glob(geotiff_input_path + '/*_SAVI.tif')"
   ]
  },
  {
   "cell_type": "code",
   "execution_count": null,
   "metadata": {},
   "outputs": [],
   "source": [
    "# ======================\n",
    "# ingest and clean data\n",
    "# ======================\n",
    "valid_NBR_withyears = wp.wrapper_clean_ingest(file_list_NBR, 'NBR')"
   ]
  },
  {
   "cell_type": "code",
   "execution_count": null,
   "metadata": {},
   "outputs": [],
   "source": [
    "# ======================\n",
    "# Perform pixel-wise linear-log trend fitting\n",
    "# ======================\n",
    "nbr_fit_result = tf.trend_fit(valid_NBR_withyears)\n",
    "# ndvi_fit_result = tf.trend_fit(valid_NDVI_withyears)\n",
    "# savi_fit_result = tf.trend_fit(valid_SAVI_withyears)"
   ]
  },
  {
   "cell_type": "code",
   "execution_count": null,
   "metadata": {},
   "outputs": [],
   "source": [
    "# ======================\n",
    "# Obtain dVIs\n",
    "# ======================\n",
    "dNBR_col = pv.get_dVI(valid_NBR_withyears)\n",
    "# dNDVI_col = pv.get_dVI(valid_NDVI_withyears)"
   ]
  },
  {
   "cell_type": "code",
   "execution_count": null,
   "metadata": {},
   "outputs": [],
   "source": [
    "# ======================\n",
    "# Obtain recovery metrics from fitted linear-log curves\n",
    "# ======================\n",
    "# absolute measure of post-disturbance regrowth (5 years)\n",
    "nbr_abs_regrowth = rm.abs_regrowth(nbr_fit_result, 5)\n",
    "# ndvi_abs_regrowth = rm.abs_regrowth(ndvi_fit_result, 5)\n",
    "\n",
    "# relative measure of post-disturbance regrowth (RI)\n",
    "nbr_RI = rm.rel_regrowth(nbr_fit_result, nbr_abs_regrowth, dNBR_col)\n",
    "# ndvi_RI = rm.rel_regrowth(ndvi_fit_result, ndvi_abs_regrowth, dNDVI_col)\n",
    "\n",
    "# slope\n",
    "slope_nbr = rm.get_slope(nbr_fit_result)\n",
    "# slope_ndvi = rm.get_slope(ndvi_fit_result)\n",
    "\n",
    "# number of years to certain % recovery\n",
    "# 20% recovery\n",
    "year20_nbr = rm.numyears_from_trend(valid_NBR_withyears, nbr_fit_result, 0.2)\n",
    "year20_nbr = np.where(year20_nbr > 0, year20_nbr, np.nan) # filter for very negative values\n",
    "\n",
    "# year20_ndvi = rm.numyears_from_trend(valid_NDVI_withyears, ndvi_fit_result, 0.2)\n",
    "# year20_ndvi = np.where(year20_ndvi > 0, year20_ndvi, np.nan)\n",
    "\n",
    "# 80% recovery\n",
    "year80_nbr = rm.numyears_from_trend(valid_NBR_withyears, nbr_fit_result, 0.8)\n",
    "year80_nbr = np.where(year80_nbr > 0, year80_nbr, np.nan) # filter for very negative values\n",
    "\n",
    "# year80_ndvi = rm.numyears_from_trend(valid_NDVI_withyears, ndvi_fit_result, 0.8)\n",
    "# year80_ndvi = np.where(year80_ndvi > 0, year80_ndvi, np.nan)"
   ]
  }
 ],
 "metadata": {
  "kernelspec": {
   "display_name": "Python 3.9.7 ('ee')",
   "language": "python",
   "name": "python3"
  },
  "language_info": {
   "codemirror_mode": {
    "name": "ipython",
    "version": 3
   },
   "file_extension": ".py",
   "mimetype": "text/x-python",
   "name": "python",
   "nbconvert_exporter": "python",
   "pygments_lexer": "ipython3",
   "version": "3.9.7"
  },
  "orig_nbformat": 4,
  "vscode": {
   "interpreter": {
    "hash": "0becb194b81b5eac33b217f99d1b30eb435f8f239c658cdd4b6645c32bbc234f"
   }
  }
 },
 "nbformat": 4,
 "nbformat_minor": 2
}
